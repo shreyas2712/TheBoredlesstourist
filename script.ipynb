{
 "cells": [
  {
   "cell_type": "code",
   "execution_count": 5,
   "metadata": {},
   "outputs": [],
   "source": [
    "destinations = [\"Paris, France\",\"Shanghai, China\",\"Los Angeles, USA\",\"Sao Paulo, Brazil\",\"Cairo, Egypt\"]\n",
    " "
   ]
  },
  {
   "cell_type": "code",
   "execution_count": 3,
   "metadata": {},
   "outputs": [],
   "source": [
    "test_traveler = ['Erin Wilkes', 'Shanghai, China', ['historical site', 'art']]"
   ]
  },
  {
   "cell_type": "code",
   "execution_count": 4,
   "metadata": {},
   "outputs": [],
   "source": [
    "def get_destination_index(destination):\n",
    "    destination_index = destinations.index(destination)\n",
    "    return destination_index"
   ]
  },
  {
   "cell_type": "code",
   "execution_count": 10,
   "metadata": {},
   "outputs": [],
   "source": [
    "def get_traveler_location(traveler):\n",
    "    traveler_destination = traveler[1]\n",
    "    traveler_destination_index = get_destination_index(traveler_destination)\n",
    "    return traveler_destination_index\n"
   ]
  },
  {
   "cell_type": "code",
   "execution_count": 11,
   "metadata": {},
   "outputs": [],
   "source": [
    "test_destination_index = get_traveler_location(test_traveler)"
   ]
  },
  {
   "cell_type": "code",
   "execution_count": 12,
   "metadata": {},
   "outputs": [
    {
     "name": "stdout",
     "output_type": "stream",
     "text": [
      "1\n"
     ]
    }
   ],
   "source": [
    "print(test_destination_index)"
   ]
  },
  {
   "cell_type": "code",
   "execution_count": 13,
   "metadata": {},
   "outputs": [],
   "source": [
    "attractions =[[] for destination in destinations]"
   ]
  },
  {
   "cell_type": "code",
   "execution_count": 14,
   "metadata": {},
   "outputs": [
    {
     "name": "stdout",
     "output_type": "stream",
     "text": [
      "[[], [], [], [], []]\n"
     ]
    }
   ],
   "source": [
    "print(attractions)"
   ]
  },
  {
   "cell_type": "code",
   "execution_count": 15,
   "metadata": {},
   "outputs": [],
   "source": [
    "def add_attraction(destination,attraction):\n",
    "    try:\n",
    "        destination_index = get_destination_index(destination)\n",
    "    except ValueError:\n",
    "        return\n",
    "    attractions_for_destination = attractions[destination_index]\n",
    "    attractions_for_destination.append(attraction)\n",
    "    attractions[destination_index] = attractions_for_destination\n",
    "    return\n",
    "\n",
    "        "
   ]
  },
  {
   "cell_type": "code",
   "execution_count": 16,
   "metadata": {},
   "outputs": [],
   "source": [
    "add_attraction(\"Los Angeles, USA\",[\"Venice Beach\",[\"beach\"]])"
   ]
  },
  {
   "cell_type": "code",
   "execution_count": 17,
   "metadata": {},
   "outputs": [
    {
     "name": "stdout",
     "output_type": "stream",
     "text": [
      "[[], [], [['Venice Beach', ['beach']]], [], []]\n"
     ]
    }
   ],
   "source": [
    "print(attractions)"
   ]
  },
  {
   "cell_type": "code",
   "execution_count": 18,
   "metadata": {},
   "outputs": [],
   "source": [
    "add_attraction(\"Paris, France\", [\"the Louvre\", [\"art\", \"museum\"]])\n",
    "add_attraction(\"Paris, France\", [\"Arc de Triomphe\", [\"historical site\", \"monument\"]])\n",
    "add_attraction(\"Shanghai, China\", [\"Yu Garden\", [\"garden\", \"historcical site\"]])\n",
    "add_attraction(\"Shanghai, China\", [\"Yuz Museum\", [\"art\", \"museum\"]])\n",
    "add_attraction(\"Shanghai, China\", [\"Oriental Pearl Tower\", [\"skyscraper\", \"viewing deck\"]])\n",
    "add_attraction(\"Los Angeles, USA\", [\"LACMA\", [\"art\", \"museum\"]])\n",
    "add_attraction(\"São Paulo, Brazil\", [\"São Paulo Zoo\", [\"zoo\"]])\n",
    "add_attraction(\"São Paulo, Brazil\", [\"Pátio do Colégio\", [\"historical site\"]])\n",
    "add_attraction(\"Cairo, Egypt\", [\"Pyramids of Giza\", [\"monument\", \"historical site\"]])\n",
    "add_attraction(\"Cairo, Egypt\", [\"Egyptian Museum\", [\"museum\"]])"
   ]
  },
  {
   "cell_type": "code",
   "execution_count": null,
   "metadata": {},
   "outputs": [],
   "source": []
  }
 ],
 "metadata": {
  "kernelspec": {
   "display_name": "Python 3",
   "language": "python",
   "name": "python3"
  },
  "language_info": {
   "codemirror_mode": {
    "name": "ipython",
    "version": 3
   },
   "file_extension": ".py",
   "mimetype": "text/x-python",
   "name": "python",
   "nbconvert_exporter": "python",
   "pygments_lexer": "ipython3",
   "version": "3.7.3"
  }
 },
 "nbformat": 4,
 "nbformat_minor": 2
}
